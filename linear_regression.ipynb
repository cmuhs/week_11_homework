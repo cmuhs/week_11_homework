{
 "cells": [
  {
   "cell_type": "code",
   "execution_count": 15,
   "metadata": {},
   "outputs": [],
   "source": [
    "import numpy as np\n",
    "import seaborn as sns\n",
    "import pandas as pd\n",
    "import matplotlib.pyplot as plt"
   ]
  },
  {
   "cell_type": "code",
   "execution_count": 16,
   "metadata": {},
   "outputs": [
    {
     "data": {
      "text/html": [
       "<div>\n",
       "<style scoped>\n",
       "    .dataframe tbody tr th:only-of-type {\n",
       "        vertical-align: middle;\n",
       "    }\n",
       "\n",
       "    .dataframe tbody tr th {\n",
       "        vertical-align: top;\n",
       "    }\n",
       "\n",
       "    .dataframe thead th {\n",
       "        text-align: right;\n",
       "    }\n",
       "</style>\n",
       "<table border=\"1\" class=\"dataframe\">\n",
       "  <thead>\n",
       "    <tr style=\"text-align: right;\">\n",
       "      <th></th>\n",
       "      <th>height</th>\n",
       "      <th>weight</th>\n",
       "    </tr>\n",
       "  </thead>\n",
       "  <tbody>\n",
       "    <tr>\n",
       "      <th>0</th>\n",
       "      <td>0</td>\n",
       "      <td>15.084616</td>\n",
       "    </tr>\n",
       "    <tr>\n",
       "      <th>1</th>\n",
       "      <td>1</td>\n",
       "      <td>19.595992</td>\n",
       "    </tr>\n",
       "    <tr>\n",
       "      <th>2</th>\n",
       "      <td>2</td>\n",
       "      <td>18.019723</td>\n",
       "    </tr>\n",
       "    <tr>\n",
       "      <th>3</th>\n",
       "      <td>3</td>\n",
       "      <td>17.145917</td>\n",
       "    </tr>\n",
       "    <tr>\n",
       "      <th>4</th>\n",
       "      <td>4</td>\n",
       "      <td>21.610114</td>\n",
       "    </tr>\n",
       "  </tbody>\n",
       "</table>\n",
       "</div>"
      ],
      "text/plain": [
       "   height     weight\n",
       "0       0  15.084616\n",
       "1       1  19.595992\n",
       "2       2  18.019723\n",
       "3       3  17.145917\n",
       "4       4  21.610114"
      ]
     },
     "execution_count": 16,
     "metadata": {},
     "output_type": "execute_result"
    }
   ],
   "source": [
    "# create linear dataset \n",
    "rand_pts = np.random.normal(-5,5, size=(100,))\n",
    "\n",
    "df_martians = pd.DataFrame()\n",
    "\n",
    "df_martians['height'] = np.arange(100)\n",
    "df_martians['weight'] = df_martians['height'] + rand_pts + 20\n",
    "\n",
    "df_martians.head()"
   ]
  },
  {
   "cell_type": "code",
   "execution_count": 17,
   "metadata": {},
   "outputs": [
    {
     "name": "stderr",
     "output_type": "stream",
     "text": [
      "/home/warner/.local/lib/python3.8/site-packages/mpl_toolkits/mplot3d/art3d.py:761: FutureWarning: elementwise comparison failed; returning scalar instead, but in the future will perform elementwise comparison\n",
      "  if zdir == 'x':\n",
      "/home/warner/.local/lib/python3.8/site-packages/mpl_toolkits/mplot3d/art3d.py:763: FutureWarning: elementwise comparison failed; returning scalar instead, but in the future will perform elementwise comparison\n",
      "  elif zdir == 'y':\n",
      "/home/warner/.local/lib/python3.8/site-packages/mpl_toolkits/mplot3d/art3d.py:765: FutureWarning: elementwise comparison failed; returning scalar instead, but in the future will perform elementwise comparison\n",
      "  elif zdir[0] == '-':\n"
     ]
    }
   ],
   "source": [
    "# plot data\n",
    "sns.scatterplot(x='height', y='weight',data = df_martians)\n",
    "# pf = np.polynomial.polynomial.polyfit(x=df_martians['height'], y=df_martians['weight'],deg=1)\n",
    "# # pf = np.polyfit(x=df_martians['height'], y=df_martians['weight'],deg=1)\n",
    "# p = np.poly1d(pf)\n",
    "\n",
    "plt.show()"
   ]
  },
  {
   "cell_type": "code",
   "execution_count": 18,
   "metadata": {},
   "outputs": [
    {
     "data": {
      "text/html": [
       "<div>\n",
       "<style scoped>\n",
       "    .dataframe tbody tr th:only-of-type {\n",
       "        vertical-align: middle;\n",
       "    }\n",
       "\n",
       "    .dataframe tbody tr th {\n",
       "        vertical-align: top;\n",
       "    }\n",
       "\n",
       "    .dataframe thead th {\n",
       "        text-align: right;\n",
       "    }\n",
       "</style>\n",
       "<table border=\"1\" class=\"dataframe\">\n",
       "  <thead>\n",
       "    <tr style=\"text-align: right;\">\n",
       "      <th></th>\n",
       "      <th>height</th>\n",
       "      <th>weight</th>\n",
       "    </tr>\n",
       "  </thead>\n",
       "  <tbody>\n",
       "    <tr>\n",
       "      <th>0</th>\n",
       "      <td>-0.500000</td>\n",
       "      <td>-0.496327</td>\n",
       "    </tr>\n",
       "    <tr>\n",
       "      <th>1</th>\n",
       "      <td>-0.489899</td>\n",
       "      <td>-0.451101</td>\n",
       "    </tr>\n",
       "    <tr>\n",
       "      <th>2</th>\n",
       "      <td>-0.479798</td>\n",
       "      <td>-0.466903</td>\n",
       "    </tr>\n",
       "    <tr>\n",
       "      <th>3</th>\n",
       "      <td>-0.469697</td>\n",
       "      <td>-0.475663</td>\n",
       "    </tr>\n",
       "    <tr>\n",
       "      <th>4</th>\n",
       "      <td>-0.459596</td>\n",
       "      <td>-0.430909</td>\n",
       "    </tr>\n",
       "    <tr>\n",
       "      <th>...</th>\n",
       "      <td>...</td>\n",
       "      <td>...</td>\n",
       "    </tr>\n",
       "    <tr>\n",
       "      <th>95</th>\n",
       "      <td>0.459596</td>\n",
       "      <td>0.466803</td>\n",
       "    </tr>\n",
       "    <tr>\n",
       "      <th>96</th>\n",
       "      <td>0.469697</td>\n",
       "      <td>0.366366</td>\n",
       "    </tr>\n",
       "    <tr>\n",
       "      <th>97</th>\n",
       "      <td>0.479798</td>\n",
       "      <td>0.435333</td>\n",
       "    </tr>\n",
       "    <tr>\n",
       "      <th>98</th>\n",
       "      <td>0.489899</td>\n",
       "      <td>0.446281</td>\n",
       "    </tr>\n",
       "    <tr>\n",
       "      <th>99</th>\n",
       "      <td>0.500000</td>\n",
       "      <td>0.413307</td>\n",
       "    </tr>\n",
       "  </tbody>\n",
       "</table>\n",
       "<p>100 rows × 2 columns</p>\n",
       "</div>"
      ],
      "text/plain": [
       "      height    weight\n",
       "0  -0.500000 -0.496327\n",
       "1  -0.489899 -0.451101\n",
       "2  -0.479798 -0.466903\n",
       "3  -0.469697 -0.475663\n",
       "4  -0.459596 -0.430909\n",
       "..       ...       ...\n",
       "95  0.459596  0.466803\n",
       "96  0.469697  0.366366\n",
       "97  0.479798  0.435333\n",
       "98  0.489899  0.446281\n",
       "99  0.500000  0.413307\n",
       "\n",
       "[100 rows x 2 columns]"
      ]
     },
     "execution_count": 18,
     "metadata": {},
     "output_type": "execute_result"
    }
   ],
   "source": [
    "# Normalize the df\n",
    "#https://stackoverflow.com/questions/26414913/normalize-columns-of-pandas-data-frame\n",
    "\n",
    "normalized_df=(df_martians-df_martians.mean())/(df_martians.max()-df_martians.min())\n",
    "\n",
    "normalized_df"
   ]
  },
  {
   "cell_type": "code",
   "execution_count": 19,
   "metadata": {},
   "outputs": [],
   "source": [
    "def run_hypothesis(x,theta0, theta1):\n",
    "    \"hypothesis(x)= theta0 + theta1*x \"\n",
    "    \n",
    "    # returns an array\n",
    "    return theta0 + theta1*x"
   ]
  },
  {
   "cell_type": "code",
   "execution_count": 20,
   "metadata": {},
   "outputs": [],
   "source": [
    "def cost_function(y_pred,y):\n",
    "    \n",
    "    cost = (1/(2*len(y_pred)))*sum((y_pred -y)**2)\n",
    "    \n",
    "    return cost"
   ]
  },
  {
   "cell_type": "code",
   "execution_count": 21,
   "metadata": {},
   "outputs": [],
   "source": [
    "def gradient_descent(theta, m, alpha,y_pred, y,x):\n",
    "    \n",
    "    new_theta = theta - alpha*(1/m)* (sum((y_pred - y)*x))\n",
    "    \n",
    "    return new_theta"
   ]
  },
  {
   "cell_type": "code",
   "execution_count": 22,
   "metadata": {},
   "outputs": [],
   "source": [
    "xs = []\n",
    "ys = []\n",
    "zs = []\n",
    "\n",
    "for i in range(500):\n",
    "    \n",
    "    t0 = np.random.uniform(-5,5) # random value form -1 to 1\n",
    "    t1 = np.random.uniform(-5,5)\n",
    "    \n",
    "    y_preds = run_hypothesis(normalized_df['height'],t0, t1)\n",
    "    \n",
    "    cost = cost_function(y_preds,normalized_df['weight'])\n",
    "    \n",
    "    xs.append(t0)\n",
    "    ys.append(t1)\n",
    "    zs.append(cost)\n",
    "\n"
   ]
  },
  {
   "cell_type": "code",
   "execution_count": 23,
   "metadata": {},
   "outputs": [
    {
     "data": {
      "application/vnd.jupyter.widget-view+json": {
       "model_id": "a36e13ca9a244e45b2cf5a12afe9f3de",
       "version_major": 2,
       "version_minor": 0
      },
      "text/plain": [
       "Canvas(toolbar=Toolbar(toolitems=[('Home', 'Reset original view', 'home', 'home'), ('Back', 'Back to previous …"
      ]
     },
     "metadata": {},
     "output_type": "display_data"
    }
   ],
   "source": [
    "%matplotlib widget\n",
    "# interactive 3D plot \n",
    "# https://stackoverflow.com/questions/50149562/jupyterlab-interactive-plot\n",
    "from mpl_toolkits.mplot3d import Axes3D\n",
    "import matplotlib.pyplot as plt\n",
    "\n",
    "fig = plt.figure()\n",
    "ax = fig.add_subplot(111, projection='3d')\n",
    "\n",
    "# xs =[1,2,3,4,5,6,7,8,9,10]\n",
    "# ys =[5,6,2,3,13,4,1,2,4,8]\n",
    "# zs =[2,3,3,3,5,7,9,11,9,10]\n",
    "\n",
    "# xt =[-1,-2,-3,-4,-5,-6,-7,8,-9,-10]\n",
    "# yt =[-5,-6,-2,-3,-13,-4,-1,2,-4,-8]\n",
    "# zt =[-2,-3,-3,-3,-5,-7,9,-11,-9,-10]\n",
    "\n",
    "ax.scatter(xs, ys, zs, c='r', marker='o')\n",
    "\n",
    "\n",
    "ax.set_xlabel('X Label')\n",
    "ax.set_ylabel('Y Label')\n",
    "ax.set_zlabel('Z Label')\n",
    "\n",
    "plt.show()"
   ]
  },
  {
   "cell_type": "code",
   "execution_count": 25,
   "metadata": {},
   "outputs": [],
   "source": [
    "t0 = -4 #np.random.uniform(-1,1) # random value form -1 to 1\n",
    "t1 = -4 #np.random.uniform(-1,1)\n",
    "\n",
    "gd_x = []\n",
    "gd_y = []\n",
    "gd_z = []\n",
    "\n",
    "for i in range(100):\n",
    "    \n",
    "    y_preds = run_hypothesis(normalized_df['height'],t0, t1)\n",
    "    \n",
    "    cost = cost_function(y_preds,normalized_df['weight'])\n",
    "    \n",
    "    t0 = gradient_descent(t0,len(y_preds),0.5,y_preds,normalized_df['weight'],1)\n",
    "    t1 = gradient_descent(t1,len(y_preds),0.5,y_preds,normalized_df['weight'],normalized_df['height'])\n",
    "    \n",
    "    gd_x.append(t0)\n",
    "    gd_y.append(t1)\n",
    "    gd_z.append(cost)\n",
    "    \n"
   ]
  },
  {
   "cell_type": "code",
   "execution_count": 26,
   "metadata": {},
   "outputs": [
    {
     "data": {
      "application/vnd.jupyter.widget-view+json": {
       "model_id": "294db14f6a514a60bb7001e5b8c791d8",
       "version_major": 2,
       "version_minor": 0
      },
      "text/plain": [
       "Canvas(toolbar=Toolbar(toolitems=[('Home', 'Reset original view', 'home', 'home'), ('Back', 'Back to previous …"
      ]
     },
     "metadata": {},
     "output_type": "display_data"
    }
   ],
   "source": [
    "%matplotlib widget\n",
    "# interactive 3D plot \n",
    "# https://stackoverflow.com/questions/50149562/jupyterlab-interactive-plot\n",
    "from mpl_toolkits.mplot3d import Axes3D\n",
    "import matplotlib.pyplot as plt\n",
    "\n",
    "fig = plt.figure()\n",
    "ax = fig.add_subplot(111, projection='3d')\n",
    "\n",
    "# xs =[1,2,3,4,5,6,7,8,9,10]\n",
    "# ys =[5,6,2,3,13,4,1,2,4,8]\n",
    "# zs =[2,3,3,3,5,7,9,11,9,10]\n",
    "\n",
    "# xt =[-1,-2,-3,-4,-5,-6,-7,8,-9,-10]\n",
    "# yt =[-5,-6,-2,-3,-13,-4,-1,2,-4,-8]\n",
    "# zt =[-2,-3,-3,-3,-5,-7,9,-11,-9,-10]\n",
    "\n",
    "ax.scatter(xs, ys, zs, c='r', marker='o')\n",
    "ax.scatter(gd_x, gd_y, gd_z, c='b', marker='^')\n",
    "\n",
    "ax.set_xlabel('X Label')\n",
    "ax.set_ylabel('Y Label')\n",
    "ax.set_zlabel('Z Label')\n",
    "\n",
    "plt.show()"
   ]
  },
  {
   "cell_type": "code",
   "execution_count": 12,
   "metadata": {},
   "outputs": [],
   "source": [
    "plt.show()"
   ]
  },
  {
   "cell_type": "code",
   "execution_count": null,
   "metadata": {},
   "outputs": [],
   "source": []
  },
  {
   "cell_type": "code",
   "execution_count": 13,
   "metadata": {},
   "outputs": [
    {
     "name": "stdout",
     "output_type": "stream",
     "text": [
      "-2.7909814489745793e-17 0.8363472050465087\n"
     ]
    }
   ],
   "source": [
    "print(t0,t1)"
   ]
  },
  {
   "cell_type": "code",
   "execution_count": 14,
   "metadata": {},
   "outputs": [
    {
     "data": {
      "text/plain": [
       "82.79837329960436"
      ]
     },
     "execution_count": 14,
     "metadata": {},
     "output_type": "execute_result"
    }
   ],
   "source": [
    "t1 * max(df_martians['height'])"
   ]
  },
  {
   "cell_type": "code",
   "execution_count": null,
   "metadata": {},
   "outputs": [],
   "source": []
  }
 ],
 "metadata": {
  "kernelspec": {
   "display_name": "Python 3",
   "language": "python",
   "name": "python3"
  },
  "language_info": {
   "codemirror_mode": {
    "name": "ipython",
    "version": 3
   },
   "file_extension": ".py",
   "mimetype": "text/x-python",
   "name": "python",
   "nbconvert_exporter": "python",
   "pygments_lexer": "ipython3",
   "version": "3.8.5"
  }
 },
 "nbformat": 4,
 "nbformat_minor": 4
}
